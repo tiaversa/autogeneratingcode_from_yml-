{
 "cells": [
  {
   "cell_type": "markdown",
   "id": "3ba31ad9",
   "metadata": {},
   "source": [
    "# Based on video:\n",
    "https://www.youtube.com/watch?v=EhGcEyd1lrs"
   ]
  },
  {
   "cell_type": "code",
   "execution_count": 20,
   "id": "598456e8",
   "metadata": {},
   "outputs": [
    {
     "name": "stdout",
     "output_type": "stream",
     "text": [
      "{'version': 2, 'models': [{'name': 'appdomain_canonical', 'description': 'Staged customer data from our jaffle shop app.', 'columns': [{'name': 'db_name_ad_id', 'description': 'To be added...', 'type': 'varchar', 'tag': 'added'}, {'name': 'ad_id', 'description': 'To be added...', 'type': 'numeric', 'tag': 'approved'}, {'name': 'ad_info', 'description': 'To be added...', 'type': 'varchar', 'tag': 'approved'}, {'name': 'ad_default_locale', 'description': 'To be added...', 'type': 'numeric', 'tag': 'approved'}]}, {'name': 'appdomain_duplication', 'description': 'Staged customer data from our jaffle shop app.', 'columns': [{'name': 'db_name_ad_id', 'description': 'To be added...', 'type': 'varchar', 'tag': 'added'}, {'name': 'ad_id', 'description': 'To be added...', 'type': 'numeric', 'tag': 'approved'}, {'name': 'ad_info', 'description': 'To be added...', 'type': 'varchar', 'tag': 'approved'}, {'name': 'ad_default_locale', 'description': 'To be added...', 'type': 'numeric', 'tag': 'approved'}]}]}\n",
      "<class 'dict'>\n"
     ]
    }
   ],
   "source": [
    "import yaml\n",
    "#read a file with only one yml set\n",
    "with open('one_model.yml', 'r') as read_file:\n",
    "    content_1 = yaml.safe_load(read_file)\n",
    "    print(content_1)\n",
    "    print(type(content_1))"
   ]
  },
  {
   "cell_type": "code",
   "execution_count": 8,
   "id": "c6992f7b",
   "metadata": {},
   "outputs": [
    {
     "name": "stdout",
     "output_type": "stream",
     "text": [
      "[{'version': 2, 'models': [{'name': 'appdomain_canonical', 'description': 'Staged customer data from our jaffle shop app.', 'columns': [{'name': 'db_name_ad_id', 'description': 'To be added...', 'type': 'varchar', 'tag': 'added'}, {'name': 'ad_id', 'description': 'To be added...', 'type': 'numeric', 'tag': 'approved'}, {'name': 'ad_info', 'description': 'To be added...', 'type': 'varchar', 'tag': 'approved'}, {'name': 'ad_default_locale', 'description': 'To be added...', 'type': 'numeric', 'tag': 'approved'}]}]}, {'version': 2, 'models': [{'name': 'appdomain_duplication', 'description': 'Staged customer data from our jaffle shop app.', 'columns': [{'name': 'db_name_ad_id', 'description': 'To be added...', 'type': 'varchar', 'tag': 'added'}, {'name': 'ad_id', 'description': 'To be added...', 'type': 'numeric', 'tag': 'approved'}, {'name': 'ad_info', 'description': 'To be added...', 'type': 'varchar', 'tag': 'approved'}, {'name': 'ad_default_locale', 'description': 'To be added...', 'type': 'numeric', 'tag': 'approved'}]}]}]\n",
      "<class 'generator'>\n"
     ]
    }
   ],
   "source": [
    "#read file with multiple yml sets\n",
    "with open('two_models.yml', 'r') as read_file:\n",
    "    content_2 = yaml.safe_load_all(read_file)\n",
    "    print(list(content_2))#gotta cast to list\n",
    "    print(type(content_2))"
   ]
  },
  {
   "cell_type": "markdown",
   "id": "80b0a08e",
   "metadata": {},
   "source": [
    "# Modifying yml data"
   ]
  },
  {
   "cell_type": "code",
   "execution_count": 21,
   "id": "8e43901a",
   "metadata": {},
   "outputs": [
    {
     "name": "stdout",
     "output_type": "stream",
     "text": [
      "approved\n",
      "not_approved\n"
     ]
    }
   ],
   "source": [
    "# updating the tag to not_approved\n",
    "print(content_1['models'][0]['columns'][1]['tag'])\n",
    "content_1['models'][0]['columns'][1]['tag'] = 'not_approved'\n",
    "print(content_1['models'][0]['columns'][1]['tag'])"
   ]
  },
  {
   "cell_type": "markdown",
   "id": "6ab06f28",
   "metadata": {},
   "source": [
    "# Create and Write a new yml file"
   ]
  },
  {
   "cell_type": "code",
   "execution_count": 22,
   "id": "6b1cd132",
   "metadata": {},
   "outputs": [],
   "source": [
    "with open('output.yml', 'w') as dump_file:\n",
    "    yaml.dump(content_1, dump_file)"
   ]
  },
  {
   "cell_type": "markdown",
   "id": "6717c0b1",
   "metadata": {},
   "source": [
    "Created the file with the changed info on it."
   ]
  },
  {
   "cell_type": "code",
   "execution_count": null,
   "id": "c30e849a",
   "metadata": {},
   "outputs": [],
   "source": []
  }
 ],
 "metadata": {
  "kernelspec": {
   "display_name": "Python 3 (ipykernel)",
   "language": "python",
   "name": "python3"
  },
  "language_info": {
   "codemirror_mode": {
    "name": "ipython",
    "version": 3
   },
   "file_extension": ".py",
   "mimetype": "text/x-python",
   "name": "python",
   "nbconvert_exporter": "python",
   "pygments_lexer": "ipython3",
   "version": "3.7.5"
  }
 },
 "nbformat": 4,
 "nbformat_minor": 5
}
